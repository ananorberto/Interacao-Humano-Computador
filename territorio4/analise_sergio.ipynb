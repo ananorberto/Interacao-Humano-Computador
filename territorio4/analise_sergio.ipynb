{
 "cells": [
  {
   "cell_type": "markdown",
   "metadata": {},
   "source": [
    "## Carrega a planilha de dados\n",
    "\n",
    "Lê o arquivo CSV \"DadosQuestionario.csv\" em um data frame"
   ]
  },
  {
   "cell_type": "code",
   "execution_count": 4,
   "metadata": {
    "vscode": {
     "languageId": "r"
    }
   },
   "outputs": [],
   "source": [
    "TodosDados.df <- read.csv2(\"Dados R.csv\")"
   ]
  },
  {
   "cell_type": "markdown",
   "metadata": {},
   "source": [
    "### Definição das colunas dos dados "
   ]
  },
  {
   "cell_type": "code",
   "execution_count": 5,
   "metadata": {
    "vscode": {
     "languageId": "r"
    }
   },
   "outputs": [],
   "source": [
    "colunas.var <- c(\"Sexo\",\"Motivacao\",\"Competitividade\",\"Colaboracao\",\"Aprendizagem\") # Define as colunas a serem usadas nos cálculos"
   ]
  },
  {
   "cell_type": "markdown",
   "metadata": {},
   "source": [
    "### INICIO DOS CÁLCULOS\n",
    "\n",
    "Alpha de Cronbach é bom acima de 0.7"
   ]
  },
  {
   "cell_type": "code",
   "execution_count": 6,
   "metadata": {
    "vscode": {
     "languageId": "r"
    }
   },
   "outputs": [
    {
     "data": {
      "text/html": [
       "0.742886758764139"
      ],
      "text/latex": [
       "0.742886758764139"
      ],
      "text/markdown": [
       "0.742886758764139"
      ],
      "text/plain": [
       "[1] 0.7428868"
      ]
     },
     "metadata": {},
     "output_type": "display_data"
    }
   ],
   "source": [
    "library(psychometric) # Carrega a biblioteca para análise psicométrica\n",
    "alpha(TodosDados.df[colunas.var]) # Calcula o Alpha de Cronbach para as colunas especificadas"
   ]
  },
  {
   "cell_type": "markdown",
   "metadata": {},
   "source": [
    "## Cáculo da Correlação de Pearson OU Spearman \n",
    "(elimina os NAs -> pairwise.complete.obs)"
   ]
  },
  {
   "cell_type": "code",
   "execution_count": 7,
   "metadata": {
    "vscode": {
     "languageId": "r"
    }
   },
   "outputs": [
    {
     "data": {
      "text/html": [
       "<table class=\"dataframe\">\n",
       "<caption>A matrix: 5 × 5 of type dbl</caption>\n",
       "<thead>\n",
       "\t<tr><th></th><th scope=col>Sexo</th><th scope=col>Motivacao</th><th scope=col>Competitividade</th><th scope=col>Colaboracao</th><th scope=col>Aprendizagem</th></tr>\n",
       "</thead>\n",
       "<tbody>\n",
       "\t<tr><th scope=row>Sexo</th><td> 1.00000000</td><td>-0.1756026</td><td>-0.09819521</td><td>-0.3649504</td><td>-0.2037671</td></tr>\n",
       "\t<tr><th scope=row>Motivacao</th><td>-0.17560256</td><td> 1.0000000</td><td> 0.59527487</td><td> 0.5914339</td><td> 0.5720648</td></tr>\n",
       "\t<tr><th scope=row>Competitividade</th><td>-0.09819521</td><td> 0.5952749</td><td> 1.00000000</td><td> 0.5108532</td><td> 0.4544095</td></tr>\n",
       "\t<tr><th scope=row>Colaboracao</th><td>-0.36495037</td><td> 0.5914339</td><td> 0.51085322</td><td> 1.0000000</td><td> 0.6323054</td></tr>\n",
       "\t<tr><th scope=row>Aprendizagem</th><td>-0.20376706</td><td> 0.5720648</td><td> 0.45440951</td><td> 0.6323054</td><td> 1.0000000</td></tr>\n",
       "</tbody>\n",
       "</table>\n"
      ],
      "text/latex": [
       "A matrix: 5 × 5 of type dbl\n",
       "\\begin{tabular}{r|lllll}\n",
       "  & Sexo & Motivacao & Competitividade & Colaboracao & Aprendizagem\\\\\n",
       "\\hline\n",
       "\tSexo &  1.00000000 & -0.1756026 & -0.09819521 & -0.3649504 & -0.2037671\\\\\n",
       "\tMotivacao & -0.17560256 &  1.0000000 &  0.59527487 &  0.5914339 &  0.5720648\\\\\n",
       "\tCompetitividade & -0.09819521 &  0.5952749 &  1.00000000 &  0.5108532 &  0.4544095\\\\\n",
       "\tColaboracao & -0.36495037 &  0.5914339 &  0.51085322 &  1.0000000 &  0.6323054\\\\\n",
       "\tAprendizagem & -0.20376706 &  0.5720648 &  0.45440951 &  0.6323054 &  1.0000000\\\\\n",
       "\\end{tabular}\n"
      ],
      "text/markdown": [
       "\n",
       "A matrix: 5 × 5 of type dbl\n",
       "\n",
       "| <!--/--> | Sexo | Motivacao | Competitividade | Colaboracao | Aprendizagem |\n",
       "|---|---|---|---|---|---|\n",
       "| Sexo |  1.00000000 | -0.1756026 | -0.09819521 | -0.3649504 | -0.2037671 |\n",
       "| Motivacao | -0.17560256 |  1.0000000 |  0.59527487 |  0.5914339 |  0.5720648 |\n",
       "| Competitividade | -0.09819521 |  0.5952749 |  1.00000000 |  0.5108532 |  0.4544095 |\n",
       "| Colaboracao | -0.36495037 |  0.5914339 |  0.51085322 |  1.0000000 |  0.6323054 |\n",
       "| Aprendizagem | -0.20376706 |  0.5720648 |  0.45440951 |  0.6323054 |  1.0000000 |\n",
       "\n"
      ],
      "text/plain": [
       "                Sexo        Motivacao  Competitividade Colaboracao Aprendizagem\n",
       "Sexo             1.00000000 -0.1756026 -0.09819521     -0.3649504  -0.2037671  \n",
       "Motivacao       -0.17560256  1.0000000  0.59527487      0.5914339   0.5720648  \n",
       "Competitividade -0.09819521  0.5952749  1.00000000      0.5108532   0.4544095  \n",
       "Colaboracao     -0.36495037  0.5914339  0.51085322      1.0000000   0.6323054  \n",
       "Aprendizagem    -0.20376706  0.5720648  0.45440951      0.6323054   1.0000000  "
      ]
     },
     "metadata": {},
     "output_type": "display_data"
    }
   ],
   "source": [
    "(V_Cor <- cor(TodosDados.df[colunas.var], use=c(\"pairwise.complete.obs\"), method=c(\"pearson\"))) # Calcula a matriz de correlação"
   ]
  },
  {
   "cell_type": "markdown",
   "metadata": {},
   "source": [
    "##### Verifica quais são as correlações significativas"
   ]
  },
  {
   "cell_type": "code",
   "execution_count": 8,
   "metadata": {
    "vscode": {
     "languageId": "r"
    }
   },
   "outputs": [
    {
     "data": {
      "text/plain": [
       "                S M Cm Cl A\n",
       "Sexo            1          \n",
       "Motivacao         1        \n",
       "Competitividade   . 1      \n",
       "Colaboracao     . . .  1   \n",
       "Aprendizagem      . .  ,  1\n",
       "attr(,\"legend\")\n",
       "[1] 0 ‘ ’ 0.3 ‘.’ 0.6 ‘,’ 0.8 ‘+’ 0.9 ‘*’ 0.95 ‘B’ 1"
      ]
     },
     "metadata": {},
     "output_type": "display_data"
    }
   ],
   "source": [
    "symnum(V_Cor) # Mostra as correlações significativas"
   ]
  }
 ],
 "metadata": {
  "kernelspec": {
   "display_name": "R",
   "language": "R",
   "name": "ir"
  },
  "language_info": {
   "codemirror_mode": "r",
   "file_extension": ".r",
   "mimetype": "text/x-r-source",
   "name": "R",
   "pygments_lexer": "r",
   "version": "4.3.1"
  },
  "orig_nbformat": 4
 },
 "nbformat": 4,
 "nbformat_minor": 2
}
