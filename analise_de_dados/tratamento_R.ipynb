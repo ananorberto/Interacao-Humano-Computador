{
 "cells": [
  {
   "cell_type": "markdown",
   "metadata": {},
   "source": [
    "## Tratando os dados\n",
    "1 - Importar as bibliotecas"
   ]
  },
  {
   "cell_type": "code",
   "execution_count": null,
   "metadata": {
    "vscode": {
     "languageId": "r"
    }
   },
   "outputs": [],
   "source": [
    "library(dplyr)"
   ]
  },
  {
   "cell_type": "markdown",
   "metadata": {},
   "source": [
    "2 - Carregar o CSV"
   ]
  },
  {
   "cell_type": "code",
   "execution_count": null,
   "metadata": {
    "vscode": {
     "languageId": "r"
    }
   },
   "outputs": [],
   "source": [
    "df <- read.csv(\"IHC.csv\")"
   ]
  },
  {
   "cell_type": "markdown",
   "metadata": {},
   "source": [
    "3 - Splitar colunas"
   ]
  },
  {
   "cell_type": "code",
   "execution_count": null,
   "metadata": {
    "vscode": {
     "languageId": "r"
    }
   },
   "outputs": [],
   "source": [
    "df <- df[5:nrow(df), 6:(ncol(df)-1)]"
   ]
  },
  {
   "cell_type": "markdown",
   "metadata": {},
   "source": [
    "4 - Trocar headers "
   ]
  },
  {
   "cell_type": "code",
   "execution_count": null,
   "metadata": {
    "vscode": {
     "languageId": "r"
    }
   },
   "outputs": [],
   "source": [
    "colnames(df) <- c(\"P1\", \"P2\", \"P3\", \"P4\", \"P5\", \"P6\", \"P7\", \"P8\", \"P9\", \"P10\", \"P11\", \"P12\", \"P13\")"
   ]
  },
  {
   "cell_type": "markdown",
   "metadata": {},
   "source": [
    "5 - Transformar strings em numeros"
   ]
  },
  {
   "cell_type": "code",
   "execution_count": null,
   "metadata": {
    "vscode": {
     "languageId": "r"
    }
   },
   "outputs": [],
   "source": [
    "#lista de dicts\n",
    "D1 = c(\"Sempre encontro minhas listas com facilidade\" =  5,\n",
    "        \"Com frequência encontro minhas listas com facilidade\" = 4,\n",
    "        \"Ás vezes encontro minhas listas com facilidade\" = 3,\n",
    "        \"Raramente encontro minhas listas com facilidade\" = 2,\n",
    "        \"Nunca encontro minhas listas com facilidade\" = 1)\n",
    "D2 = c(\"Sempre sei o que está acontecendo com meu código\" = 5,\n",
    "      \"Com frequência sei o que está acontecendo com meu código\" = 4,\n",
    "      \"Ás vezes sei o que está acontecendo com meu código\" = 3,\n",
    "      \"Raramente sei o que está acontecendo com meu código\" = 2,\n",
    "      \"Raramente sei oque está acontecendo com meu código\" = 2,\n",
    "      \"Nunca sei o que está acontecendo com meu código\" = 1,\n",
    "      \"Nunca sei oque está acontecendo com meu código\" = 1)\n",
    "D3 = c(\"Ótima\" = 5,\n",
    "      \"Boa\" = 4,\n",
    "      \"Mediana\" = 3,\n",
    "      \"Ruim\" = 2,\n",
    "      \"Péssima\" = 1)\n",
    "D4 = c(\"Não encontro problemas ao utilizar o MOJ >:(\" = 5,\n",
    "      \"Quando encontro problemas, com frequência me sinto bem auxiliado.\" = 4,\n",
    "      \"Quando encontro problemas, às vezes me sinto bem auxiliado.\" = 3,\n",
    "      \"Quando encontro problemas, raramente me sinto bem auxiliado.\" = 2,\n",
    "      \"Quando encontro problemas, nunca me senti bem auxiliado.\" = 1)\n",
    "D5 = c(\"Sempre recebo feedback claro e útil.\" = 5,\n",
    "      \"Com frequência recebo feedback claro e útil\" = 4,\n",
    "      \"Ás vezes recebo feedback claro e útil\" = 3,\n",
    "      \"Raramente recebo feedback claro e útil\" = 2,\n",
    "      \"Nunca recebo feedback claro e útil\" = 1)\n",
    "D6 = c(\"Concordo Totalmente\" = 5,\n",
    "      \"Concordo Parcialmente\" = 4,\n",
    "      \"Sou Neutro\" = 3,\n",
    "      \"Discordo Parcialmente\" = 2,\n",
    "      \"Discordo Totalmente\" = 1)\n",
    "D7 = c(\"Considero o MOJ muito acima da média\" = 5,\n",
    "      \"Considero o MOJ acima da média\" = 4,\n",
    "      \"Considero o MOJ na média\" = 3,\n",
    "      \"Considero o MOJ abaixo da média\" = 2,\n",
    "      \"Não usei outros juizes eletrônicos\" = 1)\n",
    "D8 = c(\"Concordo totalmente\" = 5,\n",
    "      \"Concordo parcialmente\" = 4,\n",
    "      \"Sou neutro\" = 3,\n",
    "      \"Discordo parcialmente\" = 2,\n",
    "      \"Discordo totalmente\" = 1)\n",
    "D9=c(\"1° período\" = 1,\n",
    "    \"2° período\" = 2,\n",
    "    \"3° período\" = 3,\n",
    "    \"4° período\" = 4,\n",
    "    \"5° período\" = 5,\n",
    "    \"6° período\" = 6,\n",
    "    \"6º período\" = 6,\n",
    "    \"7° período\" = 7,\n",
    "    \"8° período\" = 8,\n",
    "    \"9° período\" = 9,\n",
    "    \"10° período\" = 10,\n",
    "    \"Acima do 10º período\" = 11,\n",
    "    \"Prefiro não dizer\" = 0)"
   ]
  },
  {
   "cell_type": "markdown",
   "metadata": {},
   "source": [
    "6 - Mapeamento das colunas"
   ]
  },
  {
   "cell_type": "code",
   "execution_count": null,
   "metadata": {
    "vscode": {
     "languageId": "r"
    }
   },
   "outputs": [],
   "source": [
    "df$P1 <- D9[df$P1]\n",
    "df$P2 <- D1[df$P2]\n",
    "df$P3 <- D2[df$P3]\n",
    "df$P4 <- D3[df$P4]\n",
    "df$P5 <- D4[df$P5]\n",
    "df$P6 <- D5[df$P6]\n",
    "df$P7 <- D6[df$P7]\n",
    "df$P8 <- D8[df$P8]\n",
    "df$P9 <- D8[df$P9]\n",
    "df$P10 <- D8[df$P10]\n",
    "df$P11 <- D8[df$P11]\n",
    "df$P12 <- D8[df$P12]\n",
    "df$P13 <- D7[df$P13]"
   ]
  },
  {
   "cell_type": "code",
   "execution_count": null,
   "metadata": {
    "vscode": {
     "languageId": "r"
    }
   },
   "outputs": [],
   "source": [
    "#df"
   ]
  },
  {
   "cell_type": "markdown",
   "metadata": {},
   "source": [
    "## Exportanto para o arquivo .csv \n",
    "\n",
    "`row.names = FALSE`: remove os números de linha da saída\n",
    "\n",
    "`col.names = TRUE`: inclue os nomes da coluna "
   ]
  },
  {
   "cell_type": "code",
   "execution_count": null,
   "metadata": {
    "vscode": {
     "languageId": "r"
    }
   },
   "outputs": [],
   "source": [
    "file_path <- \"caminiho/dados_questionario.csv\" # caminho para o arquivo onde ficara os dados tratados\n",
    "write.table(df, file = file_path, sep = \";\", row.names = FALSE, col.names = TRUE) # exporta o dataframe"
   ]
  }
 ],
 "metadata": {
  "kernelspec": {
   "display_name": "R",
   "language": "R",
   "name": "ir"
  },
  "language_info": {
   "codemirror_mode": "r",
   "file_extension": ".r",
   "mimetype": "text/x-r-source",
   "name": "R",
   "pygments_lexer": "r",
   "version": "4.3.1"
  },
  "orig_nbformat": 4
 },
 "nbformat": 4,
 "nbformat_minor": 2
}
