{
 "cells": [
  {
   "cell_type": "markdown",
   "metadata": {},
   "source": [
    "## Tratativa de dados\n",
    "1 - Importar as bibliotecas"
   ]
  },
  {
   "cell_type": "code",
   "execution_count": 189,
   "metadata": {},
   "outputs": [],
   "source": [
    "import pandas as pd"
   ]
  },
  {
   "cell_type": "markdown",
   "metadata": {},
   "source": [
    "2 - Carregar o CSV"
   ]
  },
  {
   "cell_type": "code",
   "execution_count": 190,
   "metadata": {},
   "outputs": [],
   "source": [
    "df = pd.read_csv(\"IHC.csv\")"
   ]
  },
  {
   "cell_type": "markdown",
   "metadata": {},
   "source": [
    "3 - Splitar colunas"
   ]
  },
  {
   "cell_type": "code",
   "execution_count": 191,
   "metadata": {},
   "outputs": [],
   "source": [
    "df_remove = df.loc[df[\"1 - Você já utilizou o MOJ ?\"] == \"Não\"]\n",
    "df = df.drop(df_remove.index)\n",
    "df = df.iloc[4:,5:-1]"
   ]
  },
  {
   "cell_type": "markdown",
   "metadata": {},
   "source": [
    "4 - Trocar headers"
   ]
  },
  {
   "cell_type": "code",
   "execution_count": 192,
   "metadata": {},
   "outputs": [],
   "source": [
    "df.columns = [\"P1\", \"P2\", \"P3\", \"P4\", \"P5\", \"P6\", \"P7\", \"P8\", \"P9\", \"P10\", \"P11\", \"P12\",\"P13\"]"
   ]
  },
  {
   "cell_type": "markdown",
   "metadata": {},
   "source": [
    "5 - Transformar strings em numeros"
   ]
  },
  {
   "cell_type": "code",
   "execution_count": 193,
   "metadata": {},
   "outputs": [],
   "source": [
    "#lista de dicts\n",
    "D1 = {\"Sempre encontro minhas listas com facilidade\": 5,\n",
    "        \"Com frequência encontro minhas listas com facilidade\":4,\n",
    "        \"Ás vezes encontro minhas listas com facilidade\":3,\n",
    "        \"Raramente encontro minhas listas com facilidade\":2,\n",
    "        \"Nunca encontro minhas listas com facilidade\":1}\n",
    "D2 = {\"Sempre sei o que está acontecendo com meu código\":5,\n",
    "      \"Com frequência sei o que está acontecendo com meu código\":4,\n",
    "      \"Ás vezes sei o que está acontecendo com meu código\":3,\n",
    "      \"Raramente sei o que está acontecendo com meu código\":2,\n",
    "      \"Raramente sei oque está acontecendo com meu código\":2,\n",
    "      \"Nunca sei o que está acontecendo com meu código\":1,\n",
    "      \"Nunca sei oque está acontecendo com meu código\":1}\n",
    "D3 = {\"Ótima\":5,\n",
    "      \"Boa\":4,\n",
    "      \"Mediana\":3,\n",
    "      \"Ruim\":2,\n",
    "      \"Péssima\":1}\n",
    "D4 = {\"Não encontro problemas ao utilizar o MOJ >:(\":5,\n",
    "      \"Quando encontro problemas, com frequência me sinto bem auxiliado.\":4,\n",
    "      \"Quando encontro problemas, às vezes me sinto bem auxiliado.\":3,\n",
    "      \"Quando encontro problemas, raramente me sinto bem auxiliado.\":2,\n",
    "      \"Quando encontro problemas, nunca me senti bem auxiliado.\":1}\n",
    "D5 = {\"Sempre recebo feedback claro e útil.\":5,\n",
    "      \"Com frequência recebo feedback claro e útil\":4,\n",
    "      \"Ás vezes recebo feedback claro e útil\":3,\n",
    "      \"Raramente recebo feedback claro e útil\":2,\n",
    "      \"Nunca recebo feedback claro e útil\":1}\n",
    "D6 = {\"Concordo Totalmente\":5,\n",
    "      \"Concordo Parcialmente\":4,\n",
    "      \"Sou Neutro\":3,\n",
    "      \"Discordo Parcialmente\":2,\n",
    "      \"Discordo Totalmente\":1}\n",
    "D7 = {\"Considero o MOJ muito acima da média\":5,\n",
    "      \"Considero o MOJ acima da média\":4,\n",
    "      \"Considero o MOJ na média\":3,\n",
    "      \"Considero o MOJ abaixo da média\":2,\n",
    "      \"Não usei outros juizes eletrônicos\":1}\n",
    "D8 = {\"Concordo totalmente\":5,\n",
    "      \"Concordo parcialmente\":4,\n",
    "      \"Sou neutro\":3,\n",
    "      \"Discordo parcialmente\":2,\n",
    "      \"Discordo totalmente\":1}\n",
    "D9={\"1° período\":1,\n",
    "    \"2° período\":2,\n",
    "    \"3° período\":3,\n",
    "    \"4° período\":4,\n",
    "    \"5° período\":5,\n",
    "    \"6° período\":6,\n",
    "    \"6º período\":6,\n",
    "    \"7° período\":7,\n",
    "    \"8° período\":8,\n",
    "    \"9° período\":9,\n",
    "    \"10° período\":10,\n",
    "    \"Acima do 10º período\":11,\n",
    "    \"Prefiro não dizer\":0}"
   ]
  },
  {
   "cell_type": "code",
   "execution_count": 194,
   "metadata": {},
   "outputs": [],
   "source": [
    "df['P1'] = df['P1'].map(D9)\n",
    "df['P2'] = df['P2'].map(D1)\n",
    "df['P3'] = df['P3'].map(D2)\n",
    "df['P4'] = df['P4'].map(D3)\n",
    "df['P5'] = df['P5'].map(D4)\n",
    "df['P6'] = df['P6'].map(D5)\n",
    "df['P7'] = df['P7'].map(D6)\n",
    "df['P8'] = df['P8'].map(D8)\n",
    "df['P9'] = df['P9'].map(D8)\n",
    "df['P10'] = df['P10'].map(D8)\n",
    "df['P11'] = df['P11'].map(D8)\n",
    "df['P12'] = df['P12'].map(D8)\n",
    "df['P13'] = df['P13'].map(D7)"
   ]
  },
  {
   "cell_type": "markdown",
   "metadata": {},
   "source": [
    "6 - Exportar CSV"
   ]
  },
  {
   "cell_type": "code",
   "execution_count": 195,
   "metadata": {},
   "outputs": [],
   "source": [
    "df.reset_index()\n",
    "df.to_csv(\"dados_questionario.csv\")\n"
   ]
  }
 ],
 "metadata": {
  "kernelspec": {
   "display_name": "Python 3",
   "language": "python",
   "name": "python3"
  },
  "language_info": {
   "codemirror_mode": {
    "name": "ipython",
    "version": 3
   },
   "file_extension": ".py",
   "mimetype": "text/x-python",
   "name": "python",
   "nbconvert_exporter": "python",
   "pygments_lexer": "ipython3",
   "version": "3.10.6"
  },
  "orig_nbformat": 4
 },
 "nbformat": 4,
 "nbformat_minor": 2
}
